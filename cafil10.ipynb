{
 "cells": [
  {
   "cell_type": "code",
   "execution_count": 8,
   "metadata": {
    "ExecuteTime": {
     "end_time": "2021-08-16T02:20:44.772382Z",
     "start_time": "2021-08-16T02:18:29.665836Z"
    }
   },
   "outputs": [
    {
     "name": "stdout",
     "output_type": "stream",
     "text": [
      "_________________________________________________________________\n",
      "Layer (type)                 Output Shape              Param #   \n",
      "=================================================================\n",
      "input_1 (InputLayer)         (None, 32, 32, 3)         0         \n",
      "_________________________________________________________________\n",
      "conv2d_1 (Conv2D)            (None, 32, 32, 64)        1792      \n",
      "_________________________________________________________________\n",
      "conv2d_2 (Conv2D)            (None, 32, 32, 64)        36928     \n",
      "_________________________________________________________________\n",
      "batch_normalization_1 (Batch (None, 32, 32, 64)        256       \n",
      "_________________________________________________________________\n",
      "max_pooling2d_1 (MaxPooling2 (None, 16, 16, 64)        0         \n",
      "_________________________________________________________________\n",
      "dropout_1 (Dropout)          (None, 16, 16, 64)        0         \n",
      "_________________________________________________________________\n",
      "conv2d_3 (Conv2D)            (None, 16, 16, 128)       73856     \n",
      "_________________________________________________________________\n",
      "conv2d_4 (Conv2D)            (None, 16, 16, 128)       147584    \n",
      "_________________________________________________________________\n",
      "batch_normalization_2 (Batch (None, 16, 16, 128)       512       \n",
      "_________________________________________________________________\n",
      "average_pooling2d_1 (Average (None, 8, 8, 128)         0         \n",
      "_________________________________________________________________\n",
      "dropout_2 (Dropout)          (None, 8, 8, 128)         0         \n",
      "_________________________________________________________________\n",
      "conv2d_5 (Conv2D)            (None, 8, 8, 256)         295168    \n",
      "_________________________________________________________________\n",
      "conv2d_6 (Conv2D)            (None, 8, 8, 256)         590080    \n",
      "_________________________________________________________________\n",
      "batch_normalization_3 (Batch (None, 8, 8, 256)         1024      \n",
      "_________________________________________________________________\n",
      "global_average_pooling2d_1 ( (None, 256)               0         \n",
      "_________________________________________________________________\n",
      "dropout_3 (Dropout)          (None, 256)               0         \n",
      "_________________________________________________________________\n",
      "dense_1 (Dense)              (None, 10)                2570      \n",
      "=================================================================\n",
      "Total params: 1,149,770\n",
      "Trainable params: 1,148,874\n",
      "Non-trainable params: 896\n",
      "_________________________________________________________________\n",
      "Epoch: 1\n",
      "Epoch 1/1\n",
      "10400/50000 [=====>........................] - ETA: 8:15 - loss: 1.7519 - acc: 0.3628"
     ]
    },
    {
     "ename": "KeyboardInterrupt",
     "evalue": "",
     "output_type": "error",
     "traceback": [
      "\u001b[1;31m---------------------------------------------------------------------------\u001b[0m",
      "\u001b[1;31mKeyboardInterrupt\u001b[0m                         Traceback (most recent call last)",
      "\u001b[1;32m<ipython-input-8-26287d8dd6c4>\u001b[0m in \u001b[0;36m<module>\u001b[1;34m()\u001b[0m\n\u001b[0;32m     84\u001b[0m \u001b[1;32mfor\u001b[0m \u001b[0mii\u001b[0m \u001b[1;32min\u001b[0m \u001b[0mrange\u001b[0m\u001b[1;33m(\u001b[0m\u001b[1;36m10\u001b[0m\u001b[1;33m)\u001b[0m\u001b[1;33m:\u001b[0m\u001b[1;33m\u001b[0m\u001b[0m\n\u001b[0;32m     85\u001b[0m     \u001b[0mprint\u001b[0m\u001b[1;33m(\u001b[0m\u001b[1;34m\"Epoch:\"\u001b[0m\u001b[1;33m,\u001b[0m \u001b[0mii\u001b[0m\u001b[1;33m+\u001b[0m\u001b[1;36m1\u001b[0m\u001b[1;33m)\u001b[0m\u001b[1;33m\u001b[0m\u001b[0m\n\u001b[1;32m---> 86\u001b[1;33m     \u001b[0mmodel\u001b[0m\u001b[1;33m.\u001b[0m\u001b[0mfit\u001b[0m\u001b[1;33m(\u001b[0m\u001b[0mtrain_X\u001b[0m\u001b[1;33m,\u001b[0m \u001b[0mtrain_Y\u001b[0m\u001b[1;33m,\u001b[0m \u001b[0mbatch_size\u001b[0m\u001b[1;33m=\u001b[0m\u001b[1;36m100\u001b[0m\u001b[1;33m,\u001b[0m \u001b[0mepochs\u001b[0m\u001b[1;33m=\u001b[0m\u001b[1;36m1\u001b[0m\u001b[1;33m,\u001b[0m \u001b[0mverbose\u001b[0m\u001b[1;33m=\u001b[0m\u001b[1;36m1\u001b[0m\u001b[1;33m)\u001b[0m\u001b[1;33m\u001b[0m\u001b[0m\n\u001b[0m\u001b[0;32m     87\u001b[0m     \u001b[0mscore\u001b[0m \u001b[1;33m=\u001b[0m \u001b[0mmodel\u001b[0m\u001b[1;33m.\u001b[0m\u001b[0mevaluate\u001b[0m\u001b[1;33m(\u001b[0m\u001b[0mtest_X\u001b[0m\u001b[1;33m,\u001b[0m \u001b[0mtest_Y\u001b[0m\u001b[1;33m,\u001b[0m \u001b[0mverbose\u001b[0m\u001b[1;33m=\u001b[0m\u001b[1;36m1\u001b[0m\u001b[1;33m)\u001b[0m\u001b[1;33m\u001b[0m\u001b[0m\n\u001b[0;32m     88\u001b[0m     \u001b[0mprint\u001b[0m\u001b[1;33m(\u001b[0m\u001b[1;34m'Test loss ='\u001b[0m\u001b[1;33m,\u001b[0m \u001b[0mscore\u001b[0m\u001b[1;33m[\u001b[0m\u001b[1;36m0\u001b[0m\u001b[1;33m]\u001b[0m\u001b[1;33m)\u001b[0m\u001b[1;33m\u001b[0m\u001b[0m\n",
      "\u001b[1;32mD:\\Anaconda3\\lib\\site-packages\\keras\\engine\\training.py\u001b[0m in \u001b[0;36mfit\u001b[1;34m(self, x, y, batch_size, epochs, verbose, callbacks, validation_split, validation_data, shuffle, class_weight, sample_weight, initial_epoch, steps_per_epoch, validation_steps, **kwargs)\u001b[0m\n\u001b[0;32m   1703\u001b[0m                               \u001b[0minitial_epoch\u001b[0m\u001b[1;33m=\u001b[0m\u001b[0minitial_epoch\u001b[0m\u001b[1;33m,\u001b[0m\u001b[1;33m\u001b[0m\u001b[0m\n\u001b[0;32m   1704\u001b[0m                               \u001b[0msteps_per_epoch\u001b[0m\u001b[1;33m=\u001b[0m\u001b[0msteps_per_epoch\u001b[0m\u001b[1;33m,\u001b[0m\u001b[1;33m\u001b[0m\u001b[0m\n\u001b[1;32m-> 1705\u001b[1;33m                               validation_steps=validation_steps)\n\u001b[0m\u001b[0;32m   1706\u001b[0m \u001b[1;33m\u001b[0m\u001b[0m\n\u001b[0;32m   1707\u001b[0m     def evaluate(self, x=None, y=None,\n",
      "\u001b[1;32mD:\\Anaconda3\\lib\\site-packages\\keras\\engine\\training.py\u001b[0m in \u001b[0;36m_fit_loop\u001b[1;34m(self, f, ins, out_labels, batch_size, epochs, verbose, callbacks, val_f, val_ins, shuffle, callback_metrics, initial_epoch, steps_per_epoch, validation_steps)\u001b[0m\n\u001b[0;32m   1234\u001b[0m                         \u001b[0mins_batch\u001b[0m\u001b[1;33m[\u001b[0m\u001b[0mi\u001b[0m\u001b[1;33m]\u001b[0m \u001b[1;33m=\u001b[0m \u001b[0mins_batch\u001b[0m\u001b[1;33m[\u001b[0m\u001b[0mi\u001b[0m\u001b[1;33m]\u001b[0m\u001b[1;33m.\u001b[0m\u001b[0mtoarray\u001b[0m\u001b[1;33m(\u001b[0m\u001b[1;33m)\u001b[0m\u001b[1;33m\u001b[0m\u001b[0m\n\u001b[0;32m   1235\u001b[0m \u001b[1;33m\u001b[0m\u001b[0m\n\u001b[1;32m-> 1236\u001b[1;33m                     \u001b[0mouts\u001b[0m \u001b[1;33m=\u001b[0m \u001b[0mf\u001b[0m\u001b[1;33m(\u001b[0m\u001b[0mins_batch\u001b[0m\u001b[1;33m)\u001b[0m\u001b[1;33m\u001b[0m\u001b[0m\n\u001b[0m\u001b[0;32m   1237\u001b[0m                     \u001b[1;32mif\u001b[0m \u001b[1;32mnot\u001b[0m \u001b[0misinstance\u001b[0m\u001b[1;33m(\u001b[0m\u001b[0mouts\u001b[0m\u001b[1;33m,\u001b[0m \u001b[0mlist\u001b[0m\u001b[1;33m)\u001b[0m\u001b[1;33m:\u001b[0m\u001b[1;33m\u001b[0m\u001b[0m\n\u001b[0;32m   1238\u001b[0m                         \u001b[0mouts\u001b[0m \u001b[1;33m=\u001b[0m \u001b[1;33m[\u001b[0m\u001b[0mouts\u001b[0m\u001b[1;33m]\u001b[0m\u001b[1;33m\u001b[0m\u001b[0m\n",
      "\u001b[1;32mD:\\Anaconda3\\lib\\site-packages\\keras\\backend\\tensorflow_backend.py\u001b[0m in \u001b[0;36m__call__\u001b[1;34m(self, inputs)\u001b[0m\n\u001b[0;32m   2480\u001b[0m         \u001b[0msession\u001b[0m \u001b[1;33m=\u001b[0m \u001b[0mget_session\u001b[0m\u001b[1;33m(\u001b[0m\u001b[1;33m)\u001b[0m\u001b[1;33m\u001b[0m\u001b[0m\n\u001b[0;32m   2481\u001b[0m         updated = session.run(fetches=fetches, feed_dict=feed_dict,\n\u001b[1;32m-> 2482\u001b[1;33m                               **self.session_kwargs)\n\u001b[0m\u001b[0;32m   2483\u001b[0m         \u001b[1;32mreturn\u001b[0m \u001b[0mupdated\u001b[0m\u001b[1;33m[\u001b[0m\u001b[1;33m:\u001b[0m\u001b[0mlen\u001b[0m\u001b[1;33m(\u001b[0m\u001b[0mself\u001b[0m\u001b[1;33m.\u001b[0m\u001b[0moutputs\u001b[0m\u001b[1;33m)\u001b[0m\u001b[1;33m]\u001b[0m\u001b[1;33m\u001b[0m\u001b[0m\n\u001b[0;32m   2484\u001b[0m \u001b[1;33m\u001b[0m\u001b[0m\n",
      "\u001b[1;32mD:\\Anaconda3\\lib\\site-packages\\tensorflow\\python\\client\\session.py\u001b[0m in \u001b[0;36mrun\u001b[1;34m(self, fetches, feed_dict, options, run_metadata)\u001b[0m\n\u001b[0;32m    893\u001b[0m     \u001b[1;32mtry\u001b[0m\u001b[1;33m:\u001b[0m\u001b[1;33m\u001b[0m\u001b[0m\n\u001b[0;32m    894\u001b[0m       result = self._run(None, fetches, feed_dict, options_ptr,\n\u001b[1;32m--> 895\u001b[1;33m                          run_metadata_ptr)\n\u001b[0m\u001b[0;32m    896\u001b[0m       \u001b[1;32mif\u001b[0m \u001b[0mrun_metadata\u001b[0m\u001b[1;33m:\u001b[0m\u001b[1;33m\u001b[0m\u001b[0m\n\u001b[0;32m    897\u001b[0m         \u001b[0mproto_data\u001b[0m \u001b[1;33m=\u001b[0m \u001b[0mtf_session\u001b[0m\u001b[1;33m.\u001b[0m\u001b[0mTF_GetBuffer\u001b[0m\u001b[1;33m(\u001b[0m\u001b[0mrun_metadata_ptr\u001b[0m\u001b[1;33m)\u001b[0m\u001b[1;33m\u001b[0m\u001b[0m\n",
      "\u001b[1;32mD:\\Anaconda3\\lib\\site-packages\\tensorflow\\python\\client\\session.py\u001b[0m in \u001b[0;36m_run\u001b[1;34m(self, handle, fetches, feed_dict, options, run_metadata)\u001b[0m\n\u001b[0;32m   1122\u001b[0m     \u001b[1;32mif\u001b[0m \u001b[0mfinal_fetches\u001b[0m \u001b[1;32mor\u001b[0m \u001b[0mfinal_targets\u001b[0m \u001b[1;32mor\u001b[0m \u001b[1;33m(\u001b[0m\u001b[0mhandle\u001b[0m \u001b[1;32mand\u001b[0m \u001b[0mfeed_dict_tensor\u001b[0m\u001b[1;33m)\u001b[0m\u001b[1;33m:\u001b[0m\u001b[1;33m\u001b[0m\u001b[0m\n\u001b[0;32m   1123\u001b[0m       results = self._do_run(handle, final_targets, final_fetches,\n\u001b[1;32m-> 1124\u001b[1;33m                              feed_dict_tensor, options, run_metadata)\n\u001b[0m\u001b[0;32m   1125\u001b[0m     \u001b[1;32melse\u001b[0m\u001b[1;33m:\u001b[0m\u001b[1;33m\u001b[0m\u001b[0m\n\u001b[0;32m   1126\u001b[0m       \u001b[0mresults\u001b[0m \u001b[1;33m=\u001b[0m \u001b[1;33m[\u001b[0m\u001b[1;33m]\u001b[0m\u001b[1;33m\u001b[0m\u001b[0m\n",
      "\u001b[1;32mD:\\Anaconda3\\lib\\site-packages\\tensorflow\\python\\client\\session.py\u001b[0m in \u001b[0;36m_do_run\u001b[1;34m(self, handle, target_list, fetch_list, feed_dict, options, run_metadata)\u001b[0m\n\u001b[0;32m   1319\u001b[0m     \u001b[1;32mif\u001b[0m \u001b[0mhandle\u001b[0m \u001b[1;32mis\u001b[0m \u001b[1;32mNone\u001b[0m\u001b[1;33m:\u001b[0m\u001b[1;33m\u001b[0m\u001b[0m\n\u001b[0;32m   1320\u001b[0m       return self._do_call(_run_fn, self._session, feeds, fetches, targets,\n\u001b[1;32m-> 1321\u001b[1;33m                            options, run_metadata)\n\u001b[0m\u001b[0;32m   1322\u001b[0m     \u001b[1;32melse\u001b[0m\u001b[1;33m:\u001b[0m\u001b[1;33m\u001b[0m\u001b[0m\n\u001b[0;32m   1323\u001b[0m       \u001b[1;32mreturn\u001b[0m \u001b[0mself\u001b[0m\u001b[1;33m.\u001b[0m\u001b[0m_do_call\u001b[0m\u001b[1;33m(\u001b[0m\u001b[0m_prun_fn\u001b[0m\u001b[1;33m,\u001b[0m \u001b[0mself\u001b[0m\u001b[1;33m.\u001b[0m\u001b[0m_session\u001b[0m\u001b[1;33m,\u001b[0m \u001b[0mhandle\u001b[0m\u001b[1;33m,\u001b[0m \u001b[0mfeeds\u001b[0m\u001b[1;33m,\u001b[0m \u001b[0mfetches\u001b[0m\u001b[1;33m)\u001b[0m\u001b[1;33m\u001b[0m\u001b[0m\n",
      "\u001b[1;32mD:\\Anaconda3\\lib\\site-packages\\tensorflow\\python\\client\\session.py\u001b[0m in \u001b[0;36m_do_call\u001b[1;34m(self, fn, *args)\u001b[0m\n\u001b[0;32m   1325\u001b[0m   \u001b[1;32mdef\u001b[0m \u001b[0m_do_call\u001b[0m\u001b[1;33m(\u001b[0m\u001b[0mself\u001b[0m\u001b[1;33m,\u001b[0m \u001b[0mfn\u001b[0m\u001b[1;33m,\u001b[0m \u001b[1;33m*\u001b[0m\u001b[0margs\u001b[0m\u001b[1;33m)\u001b[0m\u001b[1;33m:\u001b[0m\u001b[1;33m\u001b[0m\u001b[0m\n\u001b[0;32m   1326\u001b[0m     \u001b[1;32mtry\u001b[0m\u001b[1;33m:\u001b[0m\u001b[1;33m\u001b[0m\u001b[0m\n\u001b[1;32m-> 1327\u001b[1;33m       \u001b[1;32mreturn\u001b[0m \u001b[0mfn\u001b[0m\u001b[1;33m(\u001b[0m\u001b[1;33m*\u001b[0m\u001b[0margs\u001b[0m\u001b[1;33m)\u001b[0m\u001b[1;33m\u001b[0m\u001b[0m\n\u001b[0m\u001b[0;32m   1328\u001b[0m     \u001b[1;32mexcept\u001b[0m \u001b[0merrors\u001b[0m\u001b[1;33m.\u001b[0m\u001b[0mOpError\u001b[0m \u001b[1;32mas\u001b[0m \u001b[0me\u001b[0m\u001b[1;33m:\u001b[0m\u001b[1;33m\u001b[0m\u001b[0m\n\u001b[0;32m   1329\u001b[0m       \u001b[0mmessage\u001b[0m \u001b[1;33m=\u001b[0m \u001b[0mcompat\u001b[0m\u001b[1;33m.\u001b[0m\u001b[0mas_text\u001b[0m\u001b[1;33m(\u001b[0m\u001b[0me\u001b[0m\u001b[1;33m.\u001b[0m\u001b[0mmessage\u001b[0m\u001b[1;33m)\u001b[0m\u001b[1;33m\u001b[0m\u001b[0m\n",
      "\u001b[1;32mD:\\Anaconda3\\lib\\site-packages\\tensorflow\\python\\client\\session.py\u001b[0m in \u001b[0;36m_run_fn\u001b[1;34m(session, feed_dict, fetch_list, target_list, options, run_metadata)\u001b[0m\n\u001b[0;32m   1304\u001b[0m           return tf_session.TF_Run(session, options,\n\u001b[0;32m   1305\u001b[0m                                    \u001b[0mfeed_dict\u001b[0m\u001b[1;33m,\u001b[0m \u001b[0mfetch_list\u001b[0m\u001b[1;33m,\u001b[0m \u001b[0mtarget_list\u001b[0m\u001b[1;33m,\u001b[0m\u001b[1;33m\u001b[0m\u001b[0m\n\u001b[1;32m-> 1306\u001b[1;33m                                    status, run_metadata)\n\u001b[0m\u001b[0;32m   1307\u001b[0m \u001b[1;33m\u001b[0m\u001b[0m\n\u001b[0;32m   1308\u001b[0m     \u001b[1;32mdef\u001b[0m \u001b[0m_prun_fn\u001b[0m\u001b[1;33m(\u001b[0m\u001b[0msession\u001b[0m\u001b[1;33m,\u001b[0m \u001b[0mhandle\u001b[0m\u001b[1;33m,\u001b[0m \u001b[0mfeed_dict\u001b[0m\u001b[1;33m,\u001b[0m \u001b[0mfetch_list\u001b[0m\u001b[1;33m)\u001b[0m\u001b[1;33m:\u001b[0m\u001b[1;33m\u001b[0m\u001b[0m\n",
      "\u001b[1;31mKeyboardInterrupt\u001b[0m: "
     ]
    }
   ],
   "source": [
    "import numpy as np\n",
    "import keras\n",
    "from keras.models import Model, save_model, load_model\n",
    "from keras.layers import Input, Dense, Dropout, BatchNormalization\n",
    "from keras.layers import Conv2D, MaxPooling2D, AveragePooling2D, GlobalAveragePooling2D\n",
    "\n",
    "## data\n",
    "import pickle\n",
    "\n",
    "data_batch_1 = pickle.load(open(\"cifar-10-batches-py/data_batch_1\", 'rb'), encoding='bytes')\n",
    "data_batch_2 = pickle.load(open(\"cifar-10-batches-py/data_batch_2\", 'rb'), encoding='bytes')\n",
    "data_batch_3 = pickle.load(open(\"cifar-10-batches-py/data_batch_3\", 'rb'), encoding='bytes')\n",
    "data_batch_4 = pickle.load(open(\"cifar-10-batches-py/data_batch_4\", 'rb'), encoding='bytes')\n",
    "data_batch_5 = pickle.load(open(\"cifar-10-batches-py/data_batch_5\", 'rb'), encoding='bytes')\n",
    "\n",
    "train_X_1 = data_batch_1[b'data']\n",
    "train_X_1 = train_X_1.reshape(10000, 3, 32, 32).transpose(0, 2, 3, 1).astype(\"float\")\n",
    "train_Y_1 = data_batch_1[b'labels']\n",
    "\n",
    "train_X_2 = data_batch_2[b'data']\n",
    "train_X_2 = train_X_2.reshape(10000, 3, 32, 32).transpose(0, 2, 3, 1).astype(\"float\")\n",
    "train_Y_2 = data_batch_2[b'labels']\n",
    "\n",
    "train_X_3 = data_batch_3[b'data']\n",
    "train_X_3 = train_X_3.reshape(10000, 3, 32, 32).transpose(0, 2, 3, 1).astype(\"float\")\n",
    "train_Y_3 = data_batch_3[b'labels']\n",
    "\n",
    "train_X_4 = data_batch_4[b'data']\n",
    "train_X_4 = train_X_4.reshape(10000, 3, 32, 32).transpose(0, 2, 3, 1).astype(\"float\")\n",
    "train_Y_4 = data_batch_4[b'labels']\n",
    "\n",
    "train_X_5 = data_batch_5[b'data']\n",
    "train_X_5 = train_X_5.reshape(10000, 3, 32, 32).transpose(0, 2, 3, 1).astype(\"float\")\n",
    "train_Y_5 = data_batch_5[b'labels']\n",
    "\n",
    "train_X = np.row_stack((train_X_1, train_X_2))\n",
    "train_X = np.row_stack((train_X, train_X_3))\n",
    "train_X = np.row_stack((train_X, train_X_4))\n",
    "train_X = np.row_stack((train_X, train_X_5))\n",
    "\n",
    "train_Y = np.row_stack((train_Y_1, train_Y_2))\n",
    "train_Y = np.row_stack((train_Y, train_Y_3))\n",
    "train_Y = np.row_stack((train_Y, train_Y_4))\n",
    "train_Y = np.row_stack((train_Y, train_Y_5))\n",
    "train_Y = train_Y.reshape(50000, 1).transpose(0, 1).astype(\"int32\")\n",
    "train_Y = keras.utils.to_categorical(train_Y)\n",
    "\n",
    "test_batch = pickle.load(open(\"cifar-10-batches-py/test_batch\", 'rb'), encoding='bytes')\n",
    "test_X = test_batch[b'data']\n",
    "test_X = test_X.reshape(10000, 3, 32, 32).transpose(0, 2, 3, 1).astype(\"float\")\n",
    "test_Y = test_batch[b'labels']\n",
    "test_Y = keras.utils.to_categorical(test_Y)\n",
    "\n",
    "train_X /= 255\n",
    "test_X /= 255\n",
    "\n",
    "## model\n",
    "inpt = Input(shape=(32,32,3))\n",
    "x = Conv2D(64, (3, 3), padding='same', activation='relu')(inpt)\n",
    "x = Conv2D(64, (3, 3), padding='same', activation='relu')(x)\n",
    "x = BatchNormalization(axis=3)(x)\n",
    "x = MaxPooling2D(pool_size=(2, 2), strides=2)(x)\n",
    "x = Dropout(0.1)(x)\n",
    "\n",
    "x = Conv2D(128, (3, 3), padding='same', activation='relu')(x)\n",
    "x = Conv2D(128, (3, 3), padding='same', activation='relu')(x)\n",
    "x = BatchNormalization(axis=3)(x)\n",
    "x = AveragePooling2D(pool_size=(2, 2), strides=2)(x)\n",
    "x = Dropout(0.1)(x)\n",
    "\n",
    "x = Conv2D(256, (3, 3), padding='same', activation='relu')(x)\n",
    "x = Conv2D(256, (3, 3), padding='same', activation='relu')(x)\n",
    "x = BatchNormalization(axis=3)(x)\n",
    "x = GlobalAveragePooling2D()(x)\n",
    "x = Dropout(0.5)(x)\n",
    "\n",
    "x = Dense(10, activation='softmax')(x)\n",
    "\n",
    "model = Model(inpt, x) \n",
    "model.compile(loss='categorical_crossentropy', optimizer='adam', metrics=['accuracy'])\n",
    "\n",
    "model.summary()\n",
    "\n",
    "for ii in range(10):\n",
    "    print(\"Epoch:\", ii+1)\n",
    "    model.fit(train_X, train_Y, batch_size=100, epochs=1, verbose=1)\n",
    "    score = model.evaluate(test_X, test_Y, verbose=1)\n",
    "    print('Test loss =', score[0])\n",
    "    print('Test accuracy =', score[1])\n",
    "\n",
    "save_model(model,'cifar10.h5')\n",
    "model = load_model('cifar10.h5')\n",
    "\n",
    "pred_Y = model.predict(test_X)\n",
    "score = model.evaluate(test_X, test_Y, verbose=0)\n",
    "print('Test loss =', score[0])\n",
    "print('Test accuracy =', score[1])"
   ]
  },
  {
   "cell_type": "code",
   "execution_count": null,
   "metadata": {
    "collapsed": true
   },
   "outputs": [],
   "source": []
  },
  {
   "cell_type": "code",
   "execution_count": 2,
   "metadata": {
    "ExecuteTime": {
     "end_time": "2021-08-16T01:57:14.375206Z",
     "start_time": "2021-08-16T01:57:14.371223Z"
    },
    "collapsed": true
   },
   "outputs": [],
   "source": []
  },
  {
   "cell_type": "code",
   "execution_count": 91,
   "metadata": {
    "ExecuteTime": {
     "end_time": "2021-08-16T05:37:20.399257Z",
     "start_time": "2021-08-16T05:37:20.392275Z"
    }
   },
   "outputs": [
    {
     "name": "stdout",
     "output_type": "stream",
     "text": [
      "numpy 1.16.4\n",
      "keras 2.1.6\n",
      "tensorflow 1.3.0\n"
     ]
    }
   ],
   "source": [
    "import numpy as np\n",
    "import keras\n",
    "from keras.models import Model, save_model, load_model\n",
    "from keras.layers import Input, Dense, Dropout, BatchNormalization\n",
    "from keras.layers import Conv2D, MaxPooling2D, AveragePooling2D, GlobalAveragePooling2D\n",
    "import tensorflow as tf\n",
    "## data\n",
    "import pickle\n",
    "\n",
    "\n",
    "for myimport in  np,keras,tf:\n",
    "    print(myimport.__name__,myimport.__version__)"
   ]
  },
  {
   "cell_type": "code",
   "execution_count": null,
   "metadata": {
    "collapsed": true
   },
   "outputs": [],
   "source": [
    "for module in mpl, np, pd, sklearn, tf, keras:\\n\",\n",
    "    \"    print(module.__name__, module.__version__)\\n\""
   ]
  },
  {
   "cell_type": "code",
   "execution_count": 14,
   "metadata": {
    "ExecuteTime": {
     "end_time": "2021-08-16T02:37:06.915964Z",
     "start_time": "2021-08-16T02:37:06.911975Z"
    }
   },
   "outputs": [
    {
     "name": "stdout",
     "output_type": "stream",
     "text": [
      "numpy 1.16.4\n",
      "tensorflow 1.3.0\n",
      "keras 2.1.6\n"
     ]
    }
   ],
   "source": [
    "for module in  np,   tf, keras:\n",
    "       print(module.__name__, module.__version__)"
   ]
  },
  {
   "cell_type": "code",
   "execution_count": 19,
   "metadata": {
    "ExecuteTime": {
     "end_time": "2021-08-16T02:40:31.551449Z",
     "start_time": "2021-08-16T02:40:31.327853Z"
    },
    "collapsed": true
   },
   "outputs": [],
   "source": [
    "import pickle\n",
    "\n",
    "data_batch_1 = pickle.load(open(\"cifar-10-batches-py/data_batch_1\", 'rb'), encoding='bytes')\n",
    "\n",
    "train_X_1 = data_batch_1[b'data']\n"
   ]
  },
  {
   "cell_type": "code",
   "execution_count": null,
   "metadata": {
    "collapsed": true
   },
   "outputs": [],
   "source": [
    "train_X_1 = train_X_1.reshape(10000, 3, 32, 32).transpose(0, 2, 3, 1).astype(\"float\")\n",
    "train_Y_1 = data_batch_1[b'labels']"
   ]
  },
  {
   "cell_type": "code",
   "execution_count": 24,
   "metadata": {
    "ExecuteTime": {
     "end_time": "2021-08-16T02:41:41.286573Z",
     "start_time": "2021-08-16T02:41:41.278598Z"
    }
   },
   "outputs": [
    {
     "data": {
      "text/plain": [
       "dict"
      ]
     },
     "execution_count": 24,
     "metadata": {},
     "output_type": "execute_result"
    }
   ],
   "source": [
    "type (data_batch_1)"
   ]
  },
  {
   "cell_type": "code",
   "execution_count": 33,
   "metadata": {
    "ExecuteTime": {
     "end_time": "2021-08-16T02:43:58.194917Z",
     "start_time": "2021-08-16T02:43:58.190936Z"
    }
   },
   "outputs": [
    {
     "data": {
      "text/plain": [
       "(10000, 3072)"
      ]
     },
     "execution_count": 33,
     "metadata": {},
     "output_type": "execute_result"
    }
   ],
   "source": [
    "train_X_1.shape"
   ]
  },
  {
   "cell_type": "code",
   "execution_count": 35,
   "metadata": {
    "ExecuteTime": {
     "end_time": "2021-08-16T02:44:36.411142Z",
     "start_time": "2021-08-16T02:44:36.407152Z"
    }
   },
   "outputs": [
    {
     "data": {
      "text/plain": [
       "array([ 59,  43,  50, ..., 140,  84,  72], dtype=uint8)"
      ]
     },
     "execution_count": 35,
     "metadata": {},
     "output_type": "execute_result"
    }
   ],
   "source": [
    "train_X_1[0]"
   ]
  },
  {
   "cell_type": "code",
   "execution_count": 36,
   "metadata": {
    "ExecuteTime": {
     "end_time": "2021-08-16T02:44:47.529773Z",
     "start_time": "2021-08-16T02:44:47.526783Z"
    },
    "collapsed": true
   },
   "outputs": [],
   "source": [
    "x=train_X_1[0]"
   ]
  },
  {
   "cell_type": "code",
   "execution_count": 37,
   "metadata": {
    "ExecuteTime": {
     "end_time": "2021-08-16T02:44:56.450327Z",
     "start_time": "2021-08-16T02:44:56.446337Z"
    }
   },
   "outputs": [
    {
     "data": {
      "text/plain": [
       "b';+2Dbw\\x8b\\x91\\x95\\x95\\x83}\\x8e\\x90\\x89\\x81\\x89\\x86|\\x8b\\x8b\\x85\\x88\\x8b\\x98\\xa3\\xa8\\x9f\\x9e\\x9e\\x98\\x94\\x10\\x00\\x123Xx\\x80\\x7f~tjeiqmpwmi}\\x7fz\\x83|y\\x83\\x84\\x85\\x85{wz\\x19\\x101Sn\\x81\\x82yqppji\\x80|\\x82\\x7fzsx\\x82\\x83\\x8b\\x7f~\\x7f\\x82\\x8e\\x82vxm!&Wjsuriky}mq\\x92\\x85\\x7fvu\\x7fz\\x84\\x89\\x88\\x83|\\x82\\x84\\x87\\x82}y^2;f\\x7f|yxrk}\\x81jl|ylbnux\\x86\\x8c\\x83\\x8d\\x87\\x7fywgWKCGTn\\x81\\x88\\x83\\x81wlz{ikolb^aSXfaXv\\x8c\\x88xkXC# ao{\\x82\\x88\\x84zy\\x7f\\x8a|xkPDJeiA:?N\\x88z\\x8b\\x97\\x81l_`YBsw\\x82\\x8c\\x85\\x7f\\x8a\\x89\\x83\\x85\\x86lH3)H\\xb5\\xd1}D@R{p\\x87\\x97\\x89rie~f\\x89\\x80\\x84\\x80w{\\x80\\x82y\\x89\\x83J62,V\\xcb\\xd9\\xa2dMKJLk\\x87\\x87\\x81\\x7fw}\\x86\\x9a\\x9a\\x9c\\x8c{}~\\x7f\\x85\\x84Z?>FOg\\x98\\x94\\x8dye`VKe\\x88\\x88\\x86\\x85\\x84\\x80\\x85\\x9a\\x9b\\x9c\\x93\\x85\\x89\\x8b\\x86\\x8dyPaZb\\x89\\x8b\\x94\\x86\\x8a\\x86\\x8c\\xaf\\x8efl\\x87\\x83\\x85\\x8a\\x88\\x82\\x86\\x91\\x92\\x92\\x87\\x7f\\x81ug\\x82xo\\x92\\x88\\xa3\\xa9\\x98\\xa1\\x94\\xb1\\xa1\\xc3\\xd1\\xbd}l\\x8c\\x89\\x84\\x88\\x85\\x84\\x85\\x8e\\x8d\\x8c\\x90\\x93yTXme\\x8a\\xd5\\xb2\\xbf\\xd3\\xbd\\xcd\\xcf\\xd5\\xbf\\xc7\\xbc\\xa1\\x82|\\x83\\x82\\x83\\x86\\x87\\x88\\x85\\x9e\\x9a\\x8e\\x8f\\x84ZHQTk\\xa5\\xe5\\xb7\\xbf\\xef\\xdb\\xe4\\xe1\\xd6\\xd8\\xd2\\xc8\\xbd\\xae\\xa1\\x8b\\x86~\\x83\\x8e\\x88\\x8a\\x91\\x95\\x93\\x93\\x88PYi`\\x81\\xc0\\xb9\\x91\\xcb\\xdf\\xf2\\xf4\\xee\\xf1\\xe3\\xe1\\xeb\\xdb\\xe0\\xd7\\x9c\\x80\\x81\\x83\\x85\\x80\\x82\\x94\\x92\\x91\\x93\\x85?BXq\\xb6\\xdc\\x8a\\xa2\\xce\\xc4\\xf7\\xff\\xff\\xf5\\xec\\xe6\\xd7\\xe7\\xfa\\xf1\\x9e}~|}~|\\x95\\x8f\\x90\\x97\\x84@Tp\\xa3\\xdf\\xce\\x91\\xc4\\xcc\\xdc\\xf3\\xf5\\xef\\xea\\xe7\\xc3\\x96\\xd0\\xfa\\xe3\\xa3\\x91\\x8f\\x8c\\x88yr\\x93\\x86\\x8c\\x94\\x87dl\\x90\\xd2\\xf8\\xaf\\xaf\\xdc\\xe2\\xe6\\xe9\\xe0\\xc9\\xb8\\xb5\\xbe\\xaa\\xb3\\xe7\\xdf\\xa2\\x92\\x8c\\x8b\\x91\\x8e\\x80\\x98ur{~z]\\xb3\\xee\\xf8\\xaa\\xb9\\xf1\\xe6\\xbb\\xb4\\xa6\\x92\\x95\\x9d\\xb8\\xd8\\xd4\\xec\\xec\\xa6\\x88\\x86\\x82\\x7f\\x89\\x97\\x91\\x7f\\x80\\x85\\x84\\x87\\xab\\xed\\xfc\\xe5\\xad\\xa9\\xdc\\xc2{\\x87\\x7f\\x97\\xa5\\x84\\x97\\xca\\xf0\\xf0\\xde\\x9cwxpdc\\x8c\\x8f\\x7f\\x81\\x81\\x82\\x8c\\xdb\\xf4\\xd2\\xc1\\xa6\\x99\\xbf\\xb3\\x80\\x93\\x95\\xac\\x93\\x80\\x8d\\xad\\xca\\xbe\\xc6\\x98dmwyl\\x88\\x8f}\\x83\\x80{\\x99\\x94\\xa6\\xbc\\xb6\\xab\\xa5\\xc3\\xbe\\x98\\x8f\\x98\\x99\\x8e\\x8d\\x87\\x88\\x94\\x8d\\x8d\\x8aooy\\x81\\x8a\\xb3\\x8d\\x83\\x8b\\x8b\\x8a\\x97\\x80\\x88\\xaf\\xad\\xbd\\xcd\\xc9\\xa8\\x97\\x91\\x92\\x95\\x99\\x95\\x90\\x90\\x91\\x8f\\x81{|qlq\\x94\\xc7\\x8f\\x8b\\x8a\\x95\\xa0\\x96\\x93\\x97\\xa9\\xa7\\xb3\\xd4\\xcb\\xcf\\x95\\x8b\\x90\\x89\\x97\\x9b\\x98\\x8ck[Ti\\x84v`f\\x9f\\xbe\\x95\\x85\\x88\\x93\\x96\\x99\\x9d\\xa2\\xaf\\xbe\\xa6\\xca\\xe0\\xc5\\xc0\\xb4\\x92~\\x8d\\x9c\\x99sMO]~\\x85wq\\x8c\\xbb\\x9a\\xac\\x90\\x87\\x88\\x87\\x8b\\x99\\xa3\\xa6\\xb8\\xa6\\x96\\xb8\\x9c\\x9e\\xa8\\x95\\x87\\x82\\x84\\x80\\x7f\\x87\\x8f\\x8b\\x88\\x7fy\\x87\\xbd\\xd3\\x88\\xca\\xbb\\x97\\x80z\\x86\\x8e\\x96\\x99\\x94\\x87\\x7f\\x99\\xa6\\x8f\\x82\\x80\\x97\\x98\\x87\\x8b\\x9b\\xa1\\x9a\\x9a\\x8f\\x82\\x84\\xab\\xd7\\xbau\\xd8\\xc1\\xa8\\x97\\x83~\\x8a\\x90\\x8e\\x89x\\x83\\x91\\x90\\x89\\x7f~\\x8b\\x99\\x95\\x8c\\x87\\x93\\x94\\x95\\x95\\x89\\x8f\\xcb\\xce|G\\xdc\\xc9\\xba\\xac\\x9c\\x8e\\x8e\\x99\\x96\\x8b~\\x88\\x94\\x8d\\x83~\\x7f\\x8a\\x96\\x9a\\x95|~\\x8d\\x91\\x93\\x7fr\\xba\\xad8!\\xd0\\xc9\\xc6\\xbf\\xb7\\xab\\x9f\\x93\\x87\\x82\\x8b\\x93\\x90\\x91\\x89\\x88\\x89\\x94\\x98\\x96\\x9b\\x8ax\\x80\\x8e\\x87Z2\\x89\\xa085\\xb4\\xad\\xba\\xc2\\xc6\\xc9\\xbd\\xad\\x9c\\x8b\\x8e\\x91\\x8d\\x8d\\x8b\\x8c\\x8f\\x8b\\x8a\\x8f\\x92\\x87upzh:\"\\x83\\xb8aS\\xb1\\xa8\\xb3\\xbc\\xca\\xda\\xda\\xcf\\xbf\\xaf\\xa6\\xa3\\xa3\\xa1\\x99\\x9f\\xa2\\x95\\x8c\\x94\\xa1\\x90pw\\x82x\\\\g\\xaa\\xd8\\x97{>.06I[knuxgcspiajjaqpiilx\\x83\\x88\\x81\\x82\\x84}|\\x14\\x00\\x08\\x1b3RYVWOFCFJFHOGEY\\\\UYROY[^`XSW\\x18\\x07\\x1b2H\\\\]RMNOKI\\\\W\\\\YUOU_`fZYY\\\\i^TTI\\x19\\x146?FJH>DTZKMi[TLLWQ\\\\cc]V[Z]ZWU>  AOMMNJHXYDGSNDAJPP]j_b\\\\TOOC9/*05IRXTTMFRQAHMJA>?8:DE6J`aPD6\\'\\n\\rEKUTXSJJS^OOG2+)38%$%3]DVjWD;?=/RLZaXQZYVY[F\\'\\x1a\\x16\\x1ff\\x7fL(&5M8Qg_LEB\\\\JdR[WQRUUPa^*\\x19\\x1d\\x1d\\'jmZ:*+\\'#C`a[YSV_xprdYVV[aa<#!\\'25F@OK:60&?[\\\\]]]V\\\\zuulddffoW(5-8[TWIRU\\\\\\x81c=CZW[a_V]rmma\\\\^TJgS<VNtsdtayn\\x96\\xa7\\x92N?`_]_ZW\\\\sjiinY8=P9O\\x96{\\x96\\xa9\\x94\\xa4\\xa2\\xa4\\x8f\\x9e\\x97ySMW[]][Y[\\x83wkf\\\\;,4/7j\\xb0\\x89\\x9e\\xd8\\xc0\\xbc\\xbc\\xb1\\xae\\xab\\xa9\\xa2\\x89v_`Z\\\\bYasmli_/9D3Q\\x98\\x94e\\xa2\\xc8\\xe3\\xe3\\xdc\\xdb\\xc5\\xbf\\xd1\\xce\\xd0\\xc0vY__aY\\\\tddd`*+2A\\x92\\xbf^i\\x9c\\xa6\\xea\\xfd\\xfc\\xea\\xd9\\xd0\\xc4\\xd9\\xf1\\xe5\\x84_a\\\\[XXs_acW(;Ey\\xcc\\xb6Z\\x85\\x9d\\xbc\\xe2\\xed\\xe9\\xe0\\xd9\\xb5\\x89\\xc1\\xf1\\xd8\\x8e\\x7f\\x81{t_RoXcgY@Ih\\xb5\\xf3\\x93w\\xb0\\xc5\\xcf\\xda\\xd4\\xba\\xa3\\x9e\\xab\\x9d\\xa7\\xda\\xce\\x85tst{wfrKPZ[S:\\x9a\\xe2\\xf3\\x86\\x84\\xd6\\xda\\xa9\\xa0\\x92wt|\\x9d\\xc3\\xc6\\xdd\\xd4}UQSVi\\x80iRZ\\\\Y_\\x91\\xe3\\xf7\\xd5\\x88y\\xb6\\xa9Yb[r\\x7fc~\\xb7\\xe4\\xe1\\xc4uLKBAJyhPVUVf\\xc4\\xe8\\xc7\\xad\\x81h\\x92\\x91Vfj\\x83l^q\\x96\\xb7\\xab\\xaf|HQX\\\\RwhLUQQuv\\x8d\\xa6\\x9c\\x86s\\x94\\x99l_inffeenjoqdovtt\\xa2fPYWZo[a\\x88\\x88\\x97\\xa0\\x9d\\x83laejnlhihf`g~\\x87\\x85z\\x88\\xb8gWY`mjhhy{\\x8d\\xae\\xa8\\xb1p`f^komeL<=c\\x8e\\x8dyq\\x95\\xaekPXchmpu\\x83\\x91|\\xa8\\xc5\\xaf\\xa5\\x90jRapmJ+2Iu\\x86tcy\\xa5\\x84\\x80XUXZ^lux\\x88vn\\x95y{\\x82m[UXTS\\\\ilpi\\\\f\\x9f\\xb5k\\x9d\\x81dOLXbjjcWRmycXWljZ_nqkpi]Z\\x83\\xb7\\x9bV\\xae\\x88zoXR^d_\\\\NWce^SR^lh_[gilmek\\xa7\\xad]0\\xb6\\x96\\x94\\x8bxgdlibX\\\\feYRQXdheNUekpeW\\x9b\\x90\\x1d\\x13\\xaa\\x99\\xa1\\x9d\\x92\\x87yk_W]b_c[YZfjgn^LTfgE\\x18i\\x85\\x1f\"\\x8b{\\x90\\x99\\x9e\\xa4\\x99\\x89vcaa\\\\][[_cb`]TPHQC\\x1f\\x05^\\x94>5\\x90\\x81\\x8e\\x95\\xa8\\xbd\\xbf\\xb5\\xa3\\x8f\\x84\\x80\\x7f{rx|thgi_Z[`WCN\\x8c\\xb8v\\\\?-+*4?KPY]ML[VOGOL@NKEJMYdlfhlfg\\x14\\x00\\x00\\x08\\x15+-,2,%#$#!%,!\\x1b..\\'/)%05:<729\\x15\\x00\\x08\\x17)67/+,.-&0/883+/67>3125D:22*\\x11\\x04\\x19\\x1c!#%!!-5(&:/-()4+3:94,213220#\\x15\\x0b\"\\'$$(\\'\"13\\x1f!*\\'\\x1d\\x17%1)2B:B3-)( \\x1b\\x17\\x19\\x1d\\x18%&-*+%!,\\'\\x19\\x1f\\x1f\"\\x1b\\x15 &$*.$HO@-\"\\x18\\x0f\\x00\\x04($+&,(\\x1e\\x1f.6\"\\'\"\\x0e\\x11\\x11\\x15\\x17\\x10\\x13\\x12\\x1fSPOE1$\\x1d%&\\x1e1!/50(/.0..\\'\\x13\\n\\x0e\\x11EQ/\\x17\\x11\\x1e>7<=6\\'\"!;.D)30,+,,(65\\x14\\x10\\x10\\x12\\x0f8>G1\\x1b\\x18\\x18\\x16$;:10+-8YMRA5204<D\\x1e\\t\\x10\\x14\\x1e\\x1a!%=9)!\\x18\\x15 55244-7^RRF@BDBQD\\r\\x11\\x11\\x1e916%.9Lj5\\x1a\\x19)-397.9YIE79A7*F7\\x0e\\x16\\x17ME4I9RGq{^(\\x194;893.8VED@JA\"!,\\x17\\x13;)bzcnsv[aXL2&3=<9408bRJA;$\\x16\\x18\\x13\\x192\\\\9g\\xb0\\x95\\x80xppnmrdL9B;8<0=OBDA>\\x15 (\\x1a-qk3y\\xaa\\xc4\\xba\\xa5\\xa3\\x90\\x8b\\x9d\\xa4\\xb5\\x9cN9><<28O6736\\x15\\x1f\"%n\\xa9G?p\\x87\\xd4\\xe8\\xdb\\xc5\\xb4\\xaa\\xa0\\xc5\\xe5\\xc3N1:41.6O1331\\x15)%K\\xa6\\x9d8Tn\\x9c\\xd0\\xe2\\xd7\\xc9\\xc0\\x98d\\x9a\\xd8\\xadN<>7.\\x1e(L/=B<&+B\\x8c\\xd4sI\\x81\\xa4\\xb3\\xc4\\xc3\\xa6\\x8a\\x80\\x88ii\\xb5\\xa1G+\"!&#)P%0980 \\x8a\\xd4\\xe5hX\\xb1\\xc3\\x8e\\x83sUOSn\\x8d\\x98\\xc5\\xb0?\\x10\\r\\r\\x10\\x1b6H)3513n\\xcd\\xeb\\xc2dI\\x8a\\x877<0?J2O\\x8e\\xcb\\xd2\\xa9@\\x0c\\x10\\x0e\\x0f\\x136B&1.-;\\xa1\\xd2\\xba\\x97\\\\7`i/:;N6-Cp\\xa0\\x93\\x92V\\x1a\"+2$2@ 0+\\'LUv\\x93\\x84cEcnB18:367<JADG%\\x1f#\\'-SA#.,2G4=hkvxqYA549==;;;<0\\'\\x1e\\x0e\\x08\\n,fH,*4H@:9QWi\\x8a\\x84\\x8dJ78/=A?7&\"\\x17\\x19\"\\x14\\x04\\t?cJ%0;?>CN`kT\\x85\\xa8\\x94\\x85k@(4B=\\x1d\\x0e\\x19!/\\'\\x1f\\x18*[KL\\x12#0-1DSRdXKnVW\\\\G3++%$4B>4\\'\\',Wr:R\\x1a\\x19\")158:?;,<M;34FA02?A?C6,.Fj[0W\\x10\\x13#\"#1553\")49603<E?5.9;>?69fi1\\x1a[\\x16\\x18\\x1c\\x1a\\x1e3KI9&/><3134<A<$)7=D;.bW\\t\\t`\"\\x1a\\x1b\" *41.9>79346:<=@.!\\':>(\\x0b<F\\x07\\x14`*\\x1e\\x19\"$  &&184435:<<8+!&\\x1d\\'\\x1e\\x0b\\x009^\"\"t^WCDLHFORV\\\\^\\\\TZ][SME7;:A;.9h\\x8cTH'"
      ]
     },
     "execution_count": 37,
     "metadata": {},
     "output_type": "execute_result"
    }
   ],
   "source": [
    "x.tostring()"
   ]
  },
  {
   "cell_type": "code",
   "execution_count": 38,
   "metadata": {
    "ExecuteTime": {
     "end_time": "2021-08-16T02:50:09.115531Z",
     "start_time": "2021-08-16T02:50:09.112539Z"
    },
    "collapsed": true
   },
   "outputs": [],
   "source": [
    "from PIL import Image"
   ]
  },
  {
   "cell_type": "code",
   "execution_count": 46,
   "metadata": {
    "ExecuteTime": {
     "end_time": "2021-08-16T02:52:47.429315Z",
     "start_time": "2021-08-16T02:52:47.406345Z"
    }
   },
   "outputs": [
    {
     "name": "stdout",
     "output_type": "stream",
     "text": [
      "(10000, 3072)\n",
      "(10000, 3, 32, 32)\n"
     ]
    }
   ],
   "source": [
    "import pickle\n",
    "import random\n",
    "import matplotlib.pyplot as plt\n",
    "from PIL import Image\n",
    "images_batch = np.array(train_X_1)\n",
    "print(images_batch.shape)\n",
    "images = images_batch.reshape([-1, 3, 32, 32])\n",
    "print(images.shape)\n",
    "        "
   ]
  },
  {
   "cell_type": "code",
   "execution_count": 59,
   "metadata": {
    "ExecuteTime": {
     "end_time": "2021-08-16T03:08:54.071126Z",
     "start_time": "2021-08-16T03:08:54.012253Z"
    }
   },
   "outputs": [
    {
     "name": "stdout",
     "output_type": "stream",
     "text": [
      "(32, 32, 3)\n"
     ]
    },
    {
     "data": {
      "image/png": "[encoded data removed]",
      "text/plain": [
       "<matplotlib.figure.Figure at 0x2bf996592e8>"
      ]
     },
     "metadata": {},
     "output_type": "display_data"
    }
   ],
   "source": [
    "imgs = images[5, :, :, :].reshape([3, 32, 32])\n",
    "img = np.stack((imgs[0, :, :], imgs[1, :, :], imgs[2, :, :]), 2)\n",
    "\n",
    "print(img.shape)\n",
    "\n",
    "plt.imshow(img)\n",
    "plt.axis('off')\n",
    "plt.show()"
   ]
  },
  {
   "cell_type": "code",
   "execution_count": 48,
   "metadata": {
    "ExecuteTime": {
     "end_time": "2021-08-16T02:55:24.280771Z",
     "start_time": "2021-08-16T02:55:24.277779Z"
    },
    "collapsed": true
   },
   "outputs": [],
   "source": [
    "t=images[5]"
   ]
  },
  {
   "cell_type": "code",
   "execution_count": 61,
   "metadata": {
    "ExecuteTime": {
     "end_time": "2021-08-16T03:09:15.720298Z",
     "start_time": "2021-08-16T03:09:15.717279Z"
    }
   },
   "outputs": [
    {
     "data": {
      "text/plain": [
       "numpy.ndarray"
      ]
     },
     "execution_count": 61,
     "metadata": {},
     "output_type": "execute_result"
    }
   ],
   "source": [
    "type(img)"
   ]
  },
  {
   "cell_type": "code",
   "execution_count": 87,
   "metadata": {
    "ExecuteTime": {
     "end_time": "2021-08-16T04:04:43.980025Z",
     "start_time": "2021-08-16T04:04:43.968088Z"
    }
   },
   "outputs": [
    {
     "ename": "TypeError",
     "evalue": "Cannot handle this data type",
     "output_type": "error",
     "traceback": [
      "\u001b[1;31m---------------------------------------------------------------------------\u001b[0m",
      "\u001b[1;31mKeyError\u001b[0m                                  Traceback (most recent call last)",
      "\u001b[1;32mD:\\Anaconda3\\lib\\site-packages\\PIL\\Image.py\u001b[0m in \u001b[0;36mfromarray\u001b[1;34m(obj, mode)\u001b[0m\n\u001b[0;32m   2357\u001b[0m \u001b[1;33m\u001b[0m\u001b[0m\n\u001b[1;32m-> 2358\u001b[1;33m         \u001b[1;33m:\u001b[0m\u001b[0mparam\u001b[0m \u001b[0msize\u001b[0m\u001b[1;33m:\u001b[0m \u001b[0mRequested\u001b[0m \u001b[0msize\u001b[0m\u001b[1;33m.\u001b[0m\u001b[1;33m\u001b[0m\u001b[0m\n\u001b[0m\u001b[0;32m   2359\u001b[0m         \u001b[1;33m:\u001b[0m\u001b[0mparam\u001b[0m \u001b[0mresample\u001b[0m\u001b[1;33m:\u001b[0m \u001b[0mOptional\u001b[0m \u001b[0mresampling\u001b[0m \u001b[0mfilter\u001b[0m\u001b[1;33m.\u001b[0m  \u001b[0mThis\u001b[0m \u001b[0mcan\u001b[0m \u001b[0mbe\u001b[0m \u001b[0mone\u001b[0m\u001b[1;33m\u001b[0m\u001b[0m\n",
      "\u001b[1;31mKeyError\u001b[0m: ((1, 1, 32), '<f8')",
      "\nDuring handling of the above exception, another exception occurred:\n",
      "\u001b[1;31mTypeError\u001b[0m                                 Traceback (most recent call last)",
      "\u001b[1;32m<ipython-input-87-1a47408542a4>\u001b[0m in \u001b[0;36m<module>\u001b[1;34m()\u001b[0m\n\u001b[1;32m----> 1\u001b[1;33m \u001b[0mvv\u001b[0m\u001b[1;33m=\u001b[0m\u001b[0mImage\u001b[0m\u001b[1;33m.\u001b[0m\u001b[0mfromarray\u001b[0m\u001b[1;33m(\u001b[0m\u001b[0mt\u001b[0m\u001b[1;33m/\u001b[0m\u001b[1;36m256\u001b[0m\u001b[1;33m)\u001b[0m\u001b[1;33m\u001b[0m\u001b[0m\n\u001b[0m\u001b[0;32m      2\u001b[0m \u001b[1;33m\u001b[0m\u001b[0m\n\u001b[0;32m      3\u001b[0m \u001b[1;33m\u001b[0m\u001b[0m\n\u001b[0;32m      4\u001b[0m \u001b[1;33m\u001b[0m\u001b[0m\n",
      "\u001b[1;32mD:\\Anaconda3\\lib\\site-packages\\PIL\\Image.py\u001b[0m in \u001b[0;36mfromarray\u001b[1;34m(obj, mode)\u001b[0m\n\u001b[0;32m   2359\u001b[0m         \u001b[1;33m:\u001b[0m\u001b[0mparam\u001b[0m \u001b[0mresample\u001b[0m\u001b[1;33m:\u001b[0m \u001b[0mOptional\u001b[0m \u001b[0mresampling\u001b[0m \u001b[0mfilter\u001b[0m\u001b[1;33m.\u001b[0m  \u001b[0mThis\u001b[0m \u001b[0mcan\u001b[0m \u001b[0mbe\u001b[0m \u001b[0mone\u001b[0m\u001b[1;33m\u001b[0m\u001b[0m\n\u001b[0;32m   2360\u001b[0m            \u001b[0mof\u001b[0m \u001b[1;33m:\u001b[0m\u001b[0mpy\u001b[0m\u001b[1;33m:\u001b[0m\u001b[0mdata\u001b[0m\u001b[1;33m:\u001b[0m\u001b[0;31m`\u001b[0m\u001b[0mPIL\u001b[0m\u001b[1;33m.\u001b[0m\u001b[0mImage\u001b[0m\u001b[1;33m.\u001b[0m\u001b[0mNEAREST\u001b[0m\u001b[0;31m`\u001b[0m\u001b[1;33m,\u001b[0m \u001b[1;33m:\u001b[0m\u001b[0mpy\u001b[0m\u001b[1;33m:\u001b[0m\u001b[0mdata\u001b[0m\u001b[1;33m:\u001b[0m\u001b[0;31m`\u001b[0m\u001b[0mPIL\u001b[0m\u001b[1;33m.\u001b[0m\u001b[0mImage\u001b[0m\u001b[1;33m.\u001b[0m\u001b[0mBOX\u001b[0m\u001b[0;31m`\u001b[0m\u001b[1;33m,\u001b[0m\u001b[1;33m\u001b[0m\u001b[0m\n\u001b[1;32m-> 2361\u001b[1;33m            \u001b[1;33m:\u001b[0m\u001b[0mpy\u001b[0m\u001b[1;33m:\u001b[0m\u001b[0mdata\u001b[0m\u001b[1;33m:\u001b[0m\u001b[0;31m`\u001b[0m\u001b[0mPIL\u001b[0m\u001b[1;33m.\u001b[0m\u001b[0mImage\u001b[0m\u001b[1;33m.\u001b[0m\u001b[0mBILINEAR\u001b[0m\u001b[0;31m`\u001b[0m\u001b[1;33m,\u001b[0m \u001b[1;33m:\u001b[0m\u001b[0mpy\u001b[0m\u001b[1;33m:\u001b[0m\u001b[0mdata\u001b[0m\u001b[1;33m:\u001b[0m\u001b[0;31m`\u001b[0m\u001b[0mPIL\u001b[0m\u001b[1;33m.\u001b[0m\u001b[0mImage\u001b[0m\u001b[1;33m.\u001b[0m\u001b[0mHAMMING\u001b[0m\u001b[0;31m`\u001b[0m\u001b[1;33m,\u001b[0m\u001b[1;33m\u001b[0m\u001b[0m\n\u001b[0m\u001b[0;32m   2362\u001b[0m            \u001b[1;33m:\u001b[0m\u001b[0mpy\u001b[0m\u001b[1;33m:\u001b[0m\u001b[0mdata\u001b[0m\u001b[1;33m:\u001b[0m\u001b[0;31m`\u001b[0m\u001b[0mPIL\u001b[0m\u001b[1;33m.\u001b[0m\u001b[0mImage\u001b[0m\u001b[1;33m.\u001b[0m\u001b[0mBICUBIC\u001b[0m\u001b[0;31m`\u001b[0m \u001b[1;32mor\u001b[0m \u001b[1;33m:\u001b[0m\u001b[0mpy\u001b[0m\u001b[1;33m:\u001b[0m\u001b[0mdata\u001b[0m\u001b[1;33m:\u001b[0m\u001b[0;31m`\u001b[0m\u001b[0mPIL\u001b[0m\u001b[1;33m.\u001b[0m\u001b[0mImage\u001b[0m\u001b[1;33m.\u001b[0m\u001b[0mLANCZOS\u001b[0m\u001b[0;31m`\u001b[0m\u001b[1;33m.\u001b[0m\u001b[1;33m\u001b[0m\u001b[0m\n\u001b[0;32m   2363\u001b[0m            \u001b[0mIf\u001b[0m \u001b[0momitted\u001b[0m\u001b[1;33m,\u001b[0m \u001b[0mit\u001b[0m \u001b[0mdefaults\u001b[0m \u001b[0mto\u001b[0m \u001b[1;33m:\u001b[0m\u001b[0mpy\u001b[0m\u001b[1;33m:\u001b[0m\u001b[0mdata\u001b[0m\u001b[1;33m:\u001b[0m\u001b[0;31m`\u001b[0m\u001b[0mPIL\u001b[0m\u001b[1;33m.\u001b[0m\u001b[0mImage\u001b[0m\u001b[1;33m.\u001b[0m\u001b[0mBICUBIC\u001b[0m\u001b[0;31m`\u001b[0m\u001b[1;33m.\u001b[0m\u001b[1;33m\u001b[0m\u001b[0m\n",
      "\u001b[1;31mTypeError\u001b[0m: Cannot handle this data type"
     ]
    }
   ],
   "source": [
    "vv=Image.fromarray(t/256)\n",
    "\n",
    "\n",
    "\n"
   ]
  },
  {
   "cell_type": "code",
   "execution_count": 90,
   "metadata": {
    "ExecuteTime": {
     "end_time": "2021-08-16T05:37:01.344868Z",
     "start_time": "2021-08-16T05:37:01.334924Z"
    }
   },
   "outputs": [
    {
     "ename": "ImportError",
     "evalue": "cannot import name 'keras'",
     "output_type": "error",
     "traceback": [
      "\u001b[1;31m---------------------------------------------------------------------------\u001b[0m",
      "\u001b[1;31mImportError\u001b[0m                               Traceback (most recent call last)",
      "\u001b[1;32m<ipython-input-90-ce97f486ace9>\u001b[0m in \u001b[0;36m<module>\u001b[1;34m()\u001b[0m\n\u001b[0;32m      1\u001b[0m \u001b[1;31m# TensorFlow and tf.keras\u001b[0m\u001b[1;33m\u001b[0m\u001b[1;33m\u001b[0m\u001b[0m\n\u001b[0;32m      2\u001b[0m \u001b[1;32mimport\u001b[0m \u001b[0mtensorflow\u001b[0m \u001b[1;32mas\u001b[0m \u001b[0mtf\u001b[0m\u001b[1;33m\u001b[0m\u001b[0m\n\u001b[1;32m----> 3\u001b[1;33m \u001b[1;32mfrom\u001b[0m \u001b[0mtensorflow\u001b[0m \u001b[1;32mimport\u001b[0m \u001b[0mkeras\u001b[0m\u001b[1;33m\u001b[0m\u001b[0m\n\u001b[0m\u001b[0;32m      4\u001b[0m \u001b[1;33m\u001b[0m\u001b[0m\n\u001b[0;32m      5\u001b[0m \u001b[1;31m# Helper libraries\u001b[0m\u001b[1;33m\u001b[0m\u001b[1;33m\u001b[0m\u001b[0m\n",
      "\u001b[1;31mImportError\u001b[0m: cannot import name 'keras'"
     ]
    }
   ],
   "source": [
    "# TensorFlow and tf.keras\n",
    "import tensorflow as tf\n",
    "from tensorflow import keras\n",
    "\n",
    "# Helper libraries\n",
    "import numpy as np\n",
    "import matplotlib.pyplot as plt\n",
    "\n",
    "print(tf.__version__)"
   ]
  },
  {
   "cell_type": "code",
   "execution_count": null,
   "metadata": {
    "collapsed": true
   },
   "outputs": [],
   "source": [
    "fashion_mnist = keras.datasets.fashion_mnist\n",
    "\n",
    "(train_images, train_labels), (test_images, test_labels) = fashion_mnist.load_data()"
   ]
  },
  {
   "cell_type": "code",
   "execution_count": null,
   "metadata": {
    "collapsed": true
   },
   "outputs": [],
   "source": [
    "fashion_mnist = keras.datasets.fashion_mnist\n",
    "\n",
    "(train_images, train_labels), (test_images, test_labels) = fashion_mnist.load_data()"
   ]
  },
  {
   "cell_type": "code",
   "execution_count": 84,
   "metadata": {
    "ExecuteTime": {
     "end_time": "2021-08-16T04:03:46.328913Z",
     "start_time": "2021-08-16T04:03:46.319937Z"
    }
   },
   "outputs": [
    {
     "ename": "TypeError",
     "evalue": "unsupported operand type(s) for //: 'Image' and 'int'",
     "output_type": "error",
     "traceback": [
      "\u001b[1;31m---------------------------------------------------------------------------\u001b[0m",
      "\u001b[1;31mTypeError\u001b[0m                                 Traceback (most recent call last)",
      "\u001b[1;32m<ipython-input-84-816242fe5129>\u001b[0m in \u001b[0;36m<module>\u001b[1;34m()\u001b[0m\n\u001b[1;32m----> 1\u001b[1;33m \u001b[0mplt\u001b[0m\u001b[1;33m.\u001b[0m\u001b[0mimshow\u001b[0m\u001b[1;33m(\u001b[0m\u001b[0mgray\u001b[0m\u001b[1;33m//\u001b[0m\u001b[1;36m256\u001b[0m\u001b[1;33m,\u001b[0m\u001b[0mcmap\u001b[0m\u001b[1;33m=\u001b[0m\u001b[1;34m'gray'\u001b[0m\u001b[1;33m)\u001b[0m\u001b[1;33m\u001b[0m\u001b[0m\n\u001b[0m\u001b[0;32m      2\u001b[0m \u001b[1;33m\u001b[0m\u001b[0m\n\u001b[0;32m      3\u001b[0m \u001b[1;33m\u001b[0m\u001b[0m\n\u001b[0;32m      4\u001b[0m \u001b[0mplt\u001b[0m\u001b[1;33m.\u001b[0m\u001b[0maxis\u001b[0m\u001b[1;33m(\u001b[0m\u001b[1;34m'off'\u001b[0m\u001b[1;33m)\u001b[0m\u001b[1;33m\u001b[0m\u001b[0m\n\u001b[0;32m      5\u001b[0m \u001b[1;33m\u001b[0m\u001b[0m\n",
      "\u001b[1;31mTypeError\u001b[0m: unsupported operand type(s) for //: 'Image' and 'int'"
     ]
    }
   ],
   "source": [
    "plt.imshow(gray//256,cmap='gray')\n",
    "\n",
    "\n",
    "plt.axis('off')\n",
    "\n",
    "plt.show()\n"
   ]
  },
  {
   "cell_type": "code",
   "execution_count": null,
   "metadata": {
    "collapsed": true
   },
   "outputs": [],
   "source": [
    "from PIL import Image\n",
    "import matplotlib.pyplot as plt\n",
    "img=Image.open('d:/ex.jpg')\n",
    "gray=img.convert('L')\n",
    "plt.figure(\"beauty\")\n",
    "plt.imshow(gray,cmap='gray')\n",
    "plt.axis('off')\n",
    "plt.show()"
   ]
  }
 ],
 "metadata": {
  "kernelspec": {
   "display_name": "Python 3",
   "language": "python",
   "name": "python3"
  },
  "language_info": {
   "codemirror_mode": {
    "name": "ipython",
    "version": 3
   },
   "file_extension": ".py",
   "mimetype": "text/x-python",
   "name": "python",
   "nbconvert_exporter": "python",
   "pygments_lexer": "ipython3",
   "version": "3.6.3"
  }
 },
 "nbformat": 4,
 "nbformat_minor": 2
}
